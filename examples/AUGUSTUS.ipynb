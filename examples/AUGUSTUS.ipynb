{
 "cells": [
  {
   "cell_type": "code",
   "execution_count": 1,
   "metadata": {},
   "outputs": [
    {
     "name": "stderr",
     "output_type": "stream",
     "text": [
      "../tcmc/tensor_utils.py:56: FutureWarning: arrays to stack must be passed as a \"sequence\" type such as list or tuple. Support for non-sequence iterables such as generators is deprecated as of NumPy 1.16 and will raise an error in the future.\n",
      "  remaining_indices = np.stack((grid.flatten() for grid in np.indices(tensor_shape[:-2])),axis=-1)\n",
      "WARNING: Logging before flag parsing goes to stderr.\n",
      "W0626 09:44:50.200208 140550781077312 deprecation.py:323] From /home/darvin/.conda/envs/tf2/lib/python3.7/site-packages/tensorflow/python/ops/linalg/linalg_impl.py:280: add_dispatch_support.<locals>.wrapper (from tensorflow.python.ops.array_ops) is deprecated and will be removed in a future version.\n",
      "Instructions for updating:\n",
      "Use tf.where in 2.0, which has the same broadcast rule as np.where\n"
     ]
    },
    {
     "data": {
      "text/plain": [
       "[array([[ 0.0110094 ,  0.04897277,  0.01933687,  0.04299766, -0.020494  ,\n",
       "         -0.02868096],\n",
       "        [ 0.00928157,  0.0359357 ,  0.02240431, -0.04299096,  0.00582719,\n",
       "          0.00995062]]), array([[-0.03422549, -0.03306106, -0.0305563 ],\n",
       "        [ 0.04244353,  0.02017944,  0.00149508]])]"
      ]
     },
     "execution_count": 1,
     "metadata": {},
     "output_type": "execute_result"
    }
   ],
   "source": [
    "import sys\n",
    "sys.path.append(\"..\")\n",
    "\n",
    "\n",
    "import numpy as np\n",
    "import tensorflow as tf\n",
    "from tcmc.nwk_utils import nwk_read\n",
    "import tcmc.tcmc as tcmc\n",
    "\n",
    "\n",
    "\n",
    "s = 4\n",
    "n = 5\n",
    "k = 4\n",
    "M = 2\n",
    "\n",
    "\n",
    "T = np.full((n+k,n+k), 0, dtype=np.float64)\n",
    "T[0,5] = 0.1\n",
    "T[1,5] = 0.1\n",
    "T[5,6] = 0.1\n",
    "T[2,6] = 0.2\n",
    "T[3,7] = 0.3\n",
    "T[4,7] = 0.3\n",
    "T[6,8] = 0.2\n",
    "T[7,8] = 0.1\n",
    "\n",
    "\n",
    "\n",
    "inputs = tf.keras.Input(shape=(n,s,), dtype=tf.float64)\n",
    "p = tcmc.TCMCProbability(M, T, n)\n",
    "xprime = p(inputs)\n",
    "p.get_weights()"
   ]
  },
  {
   "cell_type": "code",
   "execution_count": 8,
   "metadata": {},
   "outputs": [
    {
     "name": "stderr",
     "output_type": "stream",
     "text": [
      "../tcmc/tensor_utils.py:56: FutureWarning: arrays to stack must be passed as a \"sequence\" type such as list or tuple. Support for non-sequence iterables such as generators is deprecated as of NumPy 1.16 and will raise an error in the future.\n",
      "  remaining_indices = np.stack((grid.flatten() for grid in np.indices(tensor_shape[:-2])),axis=-1)\n"
     ]
    },
    {
     "data": {
      "text/plain": [
       "<tf.Tensor: id=5713, shape=(1, 2), dtype=float64, numpy=array([[1.07292278e-06, 1.24065229e-05]])>"
      ]
     },
     "execution_count": 8,
     "metadata": {},
     "output_type": "execute_result"
    }
   ],
   "source": [
    "n = 5\n",
    "k = 3\n",
    "s = 4\n",
    "M = 2\n",
    "\n",
    "T_ex = np.full((n+k,n+k), 0, dtype=np.float64)\n",
    "T_ex[0,5] = .01\n",
    "T_ex[1,5] = .2\n",
    "T_ex[3,6] = .3\n",
    "T_ex[4,6] = .02\n",
    "T_ex[3,7] = .3\n",
    "T_ex[5,7] = .15\n",
    "T_ex[6,7] = .05\n",
    "\n",
    "\n",
    "R = np.array([[1,2,1,1,2,1], [1,1,1,1,1,1]]) # Kimura 80 model versus Jukes-Kantor \n",
    "R_inv = R ** .5\n",
    "pi = np.array([[0.4,0.15,0.05,0.4], [.25,.25,.25,.25]])\n",
    "pi_inv = tcmc.stereographic_projection(pi ** .5)\n",
    "x_test = np.array([\n",
    "    [\n",
    "        [1,0,0,0],\n",
    "        [0,1,0,0],\n",
    "        [0,1,0,0],\n",
    "        [0,1,0,0],\n",
    "        [0,0,1,0]\n",
    "    ],\n",
    "], dtype=np.float64)\n",
    "\n",
    "in_ex = tf.keras.Input(shape=(n,s,), dtype=tf.float64)\n",
    "p_ex = tcmc.TCMCProbability(M, T_ex, n)\n",
    "p_ex(in_ex)\n",
    "p_ex.set_weights([R_inv,pi_inv])\n",
    "#p.get_weights()\n",
    "\n",
    "p_ex(x_test)"
   ]
  }
 ],
 "metadata": {
  "kernelspec": {
   "display_name": "Python 3",
   "language": "python",
   "name": "python3"
  },
  "language_info": {
   "codemirror_mode": {
    "name": "ipython",
    "version": 3
   },
   "file_extension": ".py",
   "mimetype": "text/x-python",
   "name": "python",
   "nbconvert_exporter": "python",
   "pygments_lexer": "ipython3",
   "version": "3.7.3"
  }
 },
 "nbformat": 4,
 "nbformat_minor": 2
}
