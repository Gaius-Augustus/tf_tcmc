{
 "cells": [
  {
   "cell_type": "code",
   "execution_count": 1,
   "metadata": {},
   "outputs": [],
   "source": [
    "import sys\n",
    "sys.path.append(\"..\")\n",
    "\n",
    "import numpy as np\n",
    "import tensorflow as tf\n",
    "from tcmc.nwk_utils import nwk_read\n",
    "import tcmc.tcmc as tcmc\n",
    "import tensorflow_probability as tfp\n",
    "\n",
    "# without the next line, tensorflow-2.0.0, gives an error on \n",
    "# float32 versus float64 incompatibility\n",
    "tf.keras.backend.set_floatx('float64')"
   ]
  },
  {
   "cell_type": "code",
   "execution_count": 2,
   "metadata": {},
   "outputs": [],
   "source": [
    "s = 4 # alphabet size\n",
    "n = 5 # number of sequences\n",
    "k = 4 # number of ancestral nodes in tree\n",
    "M = 2 # number of models / rate matrices"
   ]
  },
  {
   "cell_type": "markdown",
   "metadata": {},
   "source": [
    "### Example tree\n",
    "![](example_tree.png \"200px\")"
   ]
  },
  {
   "cell_type": "code",
   "execution_count": 3,
   "metadata": {},
   "outputs": [],
   "source": [
    "T = np.full((n + k, n + k), 0, dtype = np.float64)\n",
    "T[0,5] = 0.1\n",
    "T[1,5] = 0.1\n",
    "T[5,6] = 0.1\n",
    "T[2,6] = 0.2\n",
    "T[3,7] = 0.3\n",
    "T[4,7] = 0.3\n",
    "T[6,8] = 0.2\n",
    "T[7,8] = 0.1"
   ]
  },
  {
   "cell_type": "code",
   "execution_count": 6,
   "metadata": {},
   "outputs": [
    {
     "name": "stdout",
     "output_type": "stream",
     "text": [
      "weights: [array([[0.15399915, 0.1205418 , 0.27481729, 0.14334083, 0.18599185,\n",
      "        0.12130907],\n",
      "       [0.23395279, 0.12189349, 0.12704466, 0.14470567, 0.2144538 ,\n",
      "        0.1579496 ]]), array([[0.25312674, 0.2512489 , 0.22999236],\n",
      "       [0.2260969 , 0.29365459, 0.23431882]])]\n",
      "\n",
      "rates: (2, 6) \tsums = [0.99999999 1.00000001]\n",
      "pi: (2, 3) \tsums = [0.734368   0.75407031]\n"
     ]
    }
   ],
   "source": [
    "inputs = tf.keras.Input(shape = (n, s, ), dtype = tf.float64)\n",
    "p = tcmc.TCMCProbability(M, T, n)\n",
    "xprime = p(inputs)\n",
    "theta = p.get_weights()\n",
    "print(\"weights:\", theta)\n",
    "print(\"\\nrates:\", theta[0].shape, \"\\tsums =\", np.sum(theta[0], axis = -1))\n",
    "print(\"pi:\", theta[1].shape, \"\\tsums =\", np.sum(theta[1], axis = -1))\n"
   ]
  },
  {
   "cell_type": "code",
   "execution_count": 5,
   "metadata": {},
   "outputs": [
    {
     "data": {
      "text/plain": [
       "<tf.Tensor: id=1992, shape=(1, 2), dtype=float64, numpy=array([[7.84516397e-07, 4.19774086e-07]])>"
      ]
     },
     "execution_count": 5,
     "metadata": {},
     "output_type": "execute_result"
    }
   ],
   "source": [
    "# contract edges adjacent to root\n",
    "n = 5\n",
    "k = 3\n",
    "s = 4\n",
    "M = 2\n",
    "\n",
    "T_ex = np.full((n+k,n+k), 0, dtype=np.float64)\n",
    "T_ex[0,5] = .01\n",
    "T_ex[1,5] = .2\n",
    "T_ex[3,6] = .3\n",
    "T_ex[4,6] = .02\n",
    "T_ex[3,7] = .3\n",
    "T_ex[5,7] = .15\n",
    "T_ex[6,7] = .05\n",
    "\n",
    "\n",
    "R = np.array([[1,2,1,1,2,1], [1,1,1,1,1,1]]) # Kimura 80 model versus Jukes-Kantor \n",
    "R_inv = R ** .5\n",
    "pi = np.array([[0.4,0.15,0.05,0.4], [.25,.25,.25,.25]])\n",
    "pi_inv = tcmc.stereographic_projection(pi ** .5)\n",
    "x_test = np.array([\n",
    "    [\n",
    "        [1,0,0,0],\n",
    "        [0,1,0,0],\n",
    "        [0,1,0,0],\n",
    "        [0,1,0,0],\n",
    "        [0,0,1,0]\n",
    "    ],\n",
    "], dtype=np.float64)\n",
    "\n",
    "in_ex = tf.keras.Input(shape=(n,s,), dtype=tf.float64)\n",
    "p_ex = tcmc.TCMCProbability(M, T_ex, n)\n",
    "#p_ex(in_ex)\n",
    "#p_ex.set_weights([R_inv,pi_inv])\n",
    "#p.get_weights()\n",
    "\n",
    "p_ex(x_test)"
   ]
  }
 ],
 "metadata": {
  "kernelspec": {
   "display_name": "Python 3",
   "language": "python",
   "name": "python3"
  },
  "language_info": {
   "codemirror_mode": {
    "name": "ipython",
    "version": 3
   },
   "file_extension": ".py",
   "mimetype": "text/x-python",
   "name": "python",
   "nbconvert_exporter": "python",
   "pygments_lexer": "ipython3",
   "version": "3.7.3"
  },
  "widgets": {
   "application/vnd.jupyter.widget-state+json": {
    "state": {},
    "version_major": 2,
    "version_minor": 0
   }
  }
 },
 "nbformat": 4,
 "nbformat_minor": 4
}
