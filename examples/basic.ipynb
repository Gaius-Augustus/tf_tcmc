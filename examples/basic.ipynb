{
 "cells": [
  {
   "cell_type": "markdown",
   "metadata": {},
   "source": [
    "# Overview\n",
    "In this notebook we are going to explore a simple application of the TCMC Layer on an a small educational forest.\n",
    "\n",
    "We start by importing the needed libraries."
   ]
  },
  {
   "cell_type": "code",
   "execution_count": 1,
   "metadata": {},
   "outputs": [],
   "source": [
    "# as the library is in a different folder we modify the path of our python env.\n",
    "import sys\n",
    "sys.path.append(\"..\")\n",
    "\n",
    "# the base layer\n",
    "from tcmc.tcmc import TCMCProbability\n",
    "\n",
    "# libraries for numerical manipulation\n",
    "import numpy as np\n",
    "import tensorflow as tf\n",
    "\n",
    "# python packages for visualization and in-memory examples\n",
    "from Bio import Phylo\n",
    "from io import StringIO\n",
    "from tempfile import SpooledTemporaryFile as stf"
   ]
  },
  {
   "cell_type": "markdown",
   "metadata": {},
   "source": [
    "And set up a small forest"
   ]
  },
  {
   "cell_type": "code",
   "execution_count": 2,
   "metadata": {},
   "outputs": [
    {
     "data": {
      "image/png": "[encoded data removed]",
      "text/plain": [
       "<Figure size 432x288 with 1 Axes>"
      ]
     },
     "metadata": {
      "needs_background": "light"
     },
     "output_type": "display_data"
    },
    {
     "data": {
      "image/png": "[encoded data removed]",
      "text/plain": [
       "<Figure size 432x288 with 1 Axes>"
      ]
     },
     "metadata": {
      "needs_background": "light"
     },
     "output_type": "display_data"
    },
    {
     "data": {
      "image/png": "[encoded data removed]",
      "text/plain": [
       "<Figure size 432x288 with 1 Axes>"
      ]
     },
     "metadata": {
      "needs_background": "light"
     },
     "output_type": "display_data"
    }
   ],
   "source": [
    "# define a set of trees in Newick format\n",
    "str_tree = '((A:0.01,B:0.2):0.15,C:0.3,(D:0.3,E:0.02):0.05);'\n",
    "str_tree_prune1 = '(A:0.01,B:0.2);'\n",
    "str_tree_prune2 = '(D:0.3,E:0.02);'\n",
    "\n",
    "# plot these trees\n",
    "tree = Phylo.read(StringIO(str_tree), 'newick')\n",
    "tree_prune1 = Phylo.read(StringIO(str_tree_prune1), 'newick')\n",
    "tree_prune2 = Phylo.read(StringIO(str_tree_prune2), 'newick')\n",
    "Phylo.draw(tree)\n",
    "Phylo.draw(tree_prune1)\n",
    "Phylo.draw(tree_prune2)"
   ]
  },
  {
   "cell_type": "markdown",
   "metadata": {},
   "source": [
    "## Prepare Model Parameters\n",
    "\n",
    "### Parameter for Jukes-Cantor Model\n",
    "A TCMC Model is parameterized by a set of rates $R$ and a stationairy distribution $\\pi$.\n",
    "These two data are used to generate the infinitesimal generator $Q$ of a Markov chain \n",
    "with $s \\in \\mathbb{N}$ states in the following way:\n",
    "The matrix $Q \\in \\mathbb{R}^{s \\times s}$ is obtained by\n",
    "$$\n",
    "    Q_{jk} = \\begin{cases}\n",
    "        R_{\\text{min}\\{j,k\\}, \\text{max}\\{j,k\\}} \\cdot \\pi_k & \\text{, for } j \\neq k \\\\\n",
    "        - \\sum_{l \\neq j} Q_{jl} & \\text{, for } j=k\n",
    "    \\end{cases}\n",
    "$$\n",
    "for $0 \\leq j,k < s$\n",
    "\n",
    "In our example we want to model transitions between nucleotides and therefore our state space has size $s = 4$.\n",
    "Accordingly we need to specify a stationairy distribution $\\pi \\in \\mathbb{R}^4$ and a rates vector $R \\in \\mathbb{R}^6$, where $6 = \\frac{s(s-1)}{2}$."
   ]
  },
  {
   "cell_type": "code",
   "execution_count": 3,
   "metadata": {},
   "outputs": [],
   "source": [
    "s = 4 # our Markov chain has 4 states (the characters 'a', 'c', 'g' and 't')\n",
    "\n",
    "# Normalized Jukes-Cantor parameters\n",
    "rates = (4/3)*np.array([[1.,1.,1.,1.,1.,1.]])\n",
    "stationairy_distribution = np.array([[.25,.25,.25,.25]])"
   ]
  },
  {
   "cell_type": "markdown",
   "metadata": {},
   "source": [
    "## Initialize a TCMC Layer "
   ]
  },
  {
   "cell_type": "code",
   "execution_count": 4,
   "metadata": {},
   "outputs": [],
   "source": [
    "# usually you would save these trees in Newick files an use the paths\n",
    "# as input for the TCMC layer. In our example we will use this strings\n",
    "# as virtual files\n",
    "forest = [StringIO(str_tree), StringIO(str_tree_prune1), StringIO(str_tree_prune2)]\n",
    "N = 5 # the largest number of leaves in a single tree in our forest\n",
    "\n",
    "\n",
    "# specify the input signature\n",
    "# every leave configuration is given by a matrix with `N` rows and `s`\n",
    "# columns, where the `i`-th row is a one-hot encoded state in our \n",
    "# space of `s` states.\n",
    "leave_config_input = tf.keras.Input(shape=(N,s), dtype=tf.float64)\n",
    "tree_ids_input = tf.keras.Input(shape=(), dtype=tf.int32)\n",
    "\n",
    "# Build a TCMC Layer with one model (in our case Jukes-Cantor)\n",
    "tcmc_model = TCMCProbability((1,), forest)\n",
    "\n",
    "# This abstract layer does not yet know how many states the Markov\n",
    "# chains will have. In order to do this we need to specify the \n",
    "# input shapes.\n",
    "tcmc_model(leave_config_input, tree_ids_input)\n",
    "\n",
    "# to be more precise, we could skip the previous step and already\n",
    "# evaluate the layer on the test data. However the parameters for\n",
    "# the model will be drawn randomly in the process. As we have a \n",
    "# specific model in mind, specifiying the shapes is necessary in\n",
    "# order to allocate space for the model parameters.\n",
    "# Hence we are now ready to set the parameters for our Jukes-Cantor\n",
    "# model.\n",
    "tcmc_model.stationairy_distribution = stationairy_distribution\n",
    "tcmc_model.rates = rates"
   ]
  },
  {
   "cell_type": "markdown",
   "metadata": {},
   "source": [
    "## Investigate the Model\n",
    "\n",
    "### The Infinitesimal Generator (Transition Rate Q-Matrix)"
   ]
  },
  {
   "cell_type": "code",
   "execution_count": 5,
   "metadata": {},
   "outputs": [
    {
     "data": {
      "text/plain": [
       "<tf.Tensor: shape=(1, 4, 4), dtype=float64, numpy=\n",
       "array([[[-1.        ,  0.33333333,  0.33333333,  0.33333333],\n",
       "        [ 0.33333333, -1.        ,  0.33333333,  0.33333333],\n",
       "        [ 0.33333333,  0.33333333, -1.        ,  0.33333333],\n",
       "        [ 0.33333333,  0.33333333,  0.33333333, -1.        ]]])>"
      ]
     },
     "execution_count": 5,
     "metadata": {},
     "output_type": "execute_result"
    }
   ],
   "source": [
    "# The infinitesimal generators of the Markov chains\n",
    "# in our model is calculated on demand from our parameters.\n",
    "# We may retrieve them by:\n",
    "tcmc_model.generator\n",
    "\n",
    "# Our model is already normalized to one expected mutation.\n",
    "# You can uncomment the following lines to define a non-\n",
    "# normlized version of Jukes-Cantor and compare the \n",
    "# generator and its normalization.\n",
    "\n",
    "# tcmc_model.rates = np.array([[1.,1.,1.,1.,1.,1.]])\n",
    "# print(f'generator: \\n{tcmc_model.generator}')\n",
    "# print(f'normalized generator: \\n{tcmc_model.normalized_generator}')"
   ]
  },
  {
   "cell_type": "markdown",
   "metadata": {},
   "source": [
    "### The Probability Distribution for a given Time Step\n",
    "The probability distribution associated with a given transition rate matrix $Q$ can be obtained by using the matrix exponential.\n",
    "More precisely given state-ids `a` and `b` the probability of reaching state `a` after a time-step $t$ whilst starting in state `b` is given by\n",
    "$$P\\left(X_{t_0 + t} = `a` \\;\\middle|\\; X_{t_0} = `b`\\right) = \\exp(t \\cdot Q)_{a,b}.$$\n",
    "The matrices on the right-hand side can be evaluated for each model in the TCMC layer as in the following example"
   ]
  },
  {
   "cell_type": "code",
   "execution_count": 6,
   "metadata": {},
   "outputs": [
    {
     "data": {
      "text/plain": [
       "<tf.Tensor: shape=(1, 4, 4), dtype=float64, numpy=\n",
       "array([[[0.98026431, 0.00657856, 0.00657856, 0.00657856],\n",
       "        [0.00657856, 0.98026431, 0.00657856, 0.00657856],\n",
       "        [0.00657856, 0.00657856, 0.98026431, 0.00657856],\n",
       "        [0.00657856, 0.00657856, 0.00657856, 0.98026431]]])>"
      ]
     },
     "execution_count": 6,
     "metadata": {},
     "output_type": "execute_result"
    }
   ],
   "source": [
    "# evaluate the probability distribution of the model \n",
    "# at a given time step `t`\n",
    "P = lambda t: tcmc_model.probability_distribution(t)\n",
    "\n",
    "P(t=.02)"
   ]
  },
  {
   "cell_type": "markdown",
   "metadata": {},
   "source": [
    "# Probability of a Leave Configuration\n",
    "The main objective of the TCMC Layer is to infer likelyhoods of specific leave configurations in a tree given \n",
    "a Markov chain.\n",
    "To be more precise assume $T = (T_1, \\ldots, T_K)$ is the node set of the given tree.\n",
    "given a configuration $\\mathbf{t} = (\\mathbf{t}_1, \\ldots, \\mathbf{t}_K)$ the probability of this configuration is modeled by\n",
    "$$P(T = \\mathbf{t};Q) = \\pi_{\\mathbf{t}_K} \\cdot \\prod_{e=(v,w) \\text{ edge in T}} \\exp\\big(l(e) \\cdot Q\\big)_{\\mathbf{t_w}, \\mathbf{t_v}},$$\n",
    "where $l(e)$ is the length of the edge $e$ in $T$.\n",
    "If $L \\subset T$ denotes the set of leave nodes in $T$ our goal is to infer the likelyhood $P(L = \\mathbf{l})$ for any given leave configuration $\\mathbf{l}$.\n",
    "We shall now give an example of how to achive this using the TCMC layer.\n",
    "\n",
    "## Declare Test Data\n",
    "### The Leave Configuration\n",
    "Assume in our first tree the leave nodes `A`, `B`, `C`, `D`, `E` are configured with nucleotides \n",
    "$$\n",
    "\\begin{align*}\n",
    "A &= \\text{a} \\\\\n",
    "B &= \\text{c} \\\\\n",
    "C &= \\text{c} \\\\\n",
    "D &= \\text{c} \\\\\n",
    "E &= \\text{g}.\n",
    "\\end{align*}\n",
    "$$\n",
    "As TCMC works with one-hot encoded states we would need to specify these in the form \n",
    "$$\n",
    "\\begin{align*}\n",
    "A &= \\begin{pmatrix} 1 & 0 & 0 & 0 \\end{pmatrix} \\\\\n",
    "B &= \\begin{pmatrix} 0 & 1 & 0 & 0 \\end{pmatrix} \\\\\n",
    "C &= \\begin{pmatrix} 0 & 1 & 0 & 0 \\end{pmatrix} \\\\\n",
    "D &= \\begin{pmatrix} 0 & 1 & 0 & 0 \\end{pmatrix} \\\\\n",
    "E &= \\begin{pmatrix} 0 & 0 & 1 & 0 \\end{pmatrix}.\n",
    "\\end{align*}\n",
    "$$\n",
    "This configuration is stored in `leave_configurations[0,...]` below.\n",
    "\n",
    "TCMC may be used with forest of vastly different node sizes. In order to give a well-defined\n",
    "input shape, we must specify a configuration for $N$ nodes, where $N$ is the maximal number of\n",
    "leaves in any of the considered trees.\n",
    "In our case $N = 5$ (the first tree has 5 leaves, the remained two trees have $2$ leaves each).\n",
    "If the number of leaves $n$ in any given tree is smaller than $N$ you will need to pad the remaining\n",
    "$N - n$ rows with some values.\n",
    "In our example the second tree only has $2$ leaves `A`, `B` which we will configure with the nucleotides `a` and `c` respectively.\n",
    "For simplicity sake we will pad the remaing $5-2 = 3$ rows in its specification by `1`s.\n",
    "This configuration can be inspected in `leave_configurations[1,...]`.\n",
    "\n",
    "We proceed in a similar fashion for the configuration of our third batch entry for the third tree.\n",
    "\n",
    "### The Batch Indices\n",
    "An array `tree_ids` must be specified.\n",
    "The `i`-th entry `tree_ids[i]` should be the id of the tree in the `forest` whose leave set is configured in `leave_configurations[i,...]`."
   ]
  },
  {
   "cell_type": "code",
   "execution_count": 7,
   "metadata": {},
   "outputs": [],
   "source": [
    "# some leave and partial leave configurations for trees in the forest\n",
    "leave_configurations = tf.convert_to_tensor(np.array([\n",
    "    [\n",
    "        [1,0,0,0],\n",
    "        [0,1,0,0],\n",
    "        [0,1,0,0],\n",
    "        [0,1,0,0],\n",
    "        [0,0,1,0]\n",
    "    ],\n",
    "    [\n",
    "        [1,0,0,0],\n",
    "        [0,1,0,0],\n",
    "        [1,1,1,1],\n",
    "        [1,1,1,1],\n",
    "        [1,1,1,1]\n",
    "    ],\n",
    "    [\n",
    "        [0,1,0,0],\n",
    "        [0,0,1,0],\n",
    "        [1,1,1,1],\n",
    "        [1,1,1,1],\n",
    "        [1,1,1,1]\n",
    "    ],\n",
    "], dtype=np.float64))\n",
    "\n",
    "# information which tree is used for which leave configuration in the batch\n",
    "tree_ids = tf.convert_to_tensor(np.array([0,1,2], dtype=np.int32))"
   ]
  },
  {
   "cell_type": "markdown",
   "metadata": {},
   "source": [
    "## Evaluate the Model\n",
    "The likelyhood of the given batch of $3$ leave configurations can now easily be infered.\n",
    "The $i$-th entry `tcmc_model(leave_configurations, tree_ids)[i]` will be the probability \n",
    "$$P\\big(L^{\\text{tree_ids}[i]} = \\text{leave_configuration[i]}\\big)$$\n",
    "of the $i$-th leave configuration in the leave set $L^{\\text{tree_ids}[i]}$ of the tree with id $\\text{tree_ids}[i]$ in the forest."
   ]
  },
  {
   "cell_type": "code",
   "execution_count": 8,
   "metadata": {},
   "outputs": [
    {
     "data": {
      "text/plain": [
       "<tf.Tensor: shape=(3, 1), dtype=float64, numpy=\n",
       "array([[1.24065229e-05],\n",
       "       [1.52635162e-02],\n",
       "       [2.17074327e-02]])>"
      ]
     },
     "execution_count": 8,
     "metadata": {},
     "output_type": "execute_result"
    }
   ],
   "source": [
    "tcmc_model(leave_configurations, tree_ids)"
   ]
  }
 ],
 "metadata": {
  "kernelspec": {
   "display_name": "Python 3",
   "language": "python",
   "name": "python3"
  },
  "language_info": {
   "codemirror_mode": {
    "name": "ipython",
    "version": 3
   },
   "file_extension": ".py",
   "mimetype": "text/x-python",
   "name": "python",
   "nbconvert_exporter": "python",
   "pygments_lexer": "ipython3",
   "version": "3.7.7"
  }
 },
 "nbformat": 4,
 "nbformat_minor": 4
}
