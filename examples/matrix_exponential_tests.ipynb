{
 "cells": [
  {
   "cell_type": "code",
   "execution_count": 1,
   "metadata": {},
   "outputs": [],
   "source": [
    "import tensorflow as tf\n",
    "from matrix_exponential import matrix_exponential"
   ]
  },
  {
   "cell_type": "code",
   "execution_count": 2,
   "metadata": {},
   "outputs": [],
   "source": [
    "A = tf.convert_to_tensor([\n",
    "    [[1,0],[0,4]],\n",
    "    [[2,0],[0,2]],\n",
    "    [[.4,0],[0,0.4]],\n",
    "    [[4,0],[0,4]],\n",
    "    [[30,0],[0,20]],\n",
    "    [[27,0],[0,1]]\n",
    "],dtype=tf.float64)\n",
    "A = tf.reshape(A, shape=[2,3,2,2])\n",
    "#U,V = _matrix_exp_pade13(A)\n",
    "#q = -U+V\n",
    "#p = U+V\n",
    "#print(tf.linalg.solve(q,p))"
   ]
  },
  {
   "cell_type": "code",
   "execution_count": 7,
   "metadata": {},
   "outputs": [
    {
     "data": {
      "text/plain": [
       "<tf.Tensor: id=790, shape=(2, 3, 2, 2), dtype=float64, numpy=\n",
       "array([[[[2.71828183e+00, 0.00000000e+00],\n",
       "         [0.00000000e+00, 5.45981500e+01]],\n",
       "\n",
       "        [[7.38905610e+00, 0.00000000e+00],\n",
       "         [0.00000000e+00, 7.38905610e+00]],\n",
       "\n",
       "        [[1.49182470e+00, 0.00000000e+00],\n",
       "         [0.00000000e+00, 1.49182470e+00]]],\n",
       "\n",
       "\n",
       "       [[[5.45981500e+01, 0.00000000e+00],\n",
       "         [0.00000000e+00, 5.45981500e+01]],\n",
       "\n",
       "        [[1.06864746e+13, 0.00000000e+00],\n",
       "         [0.00000000e+00, 4.85165195e+08]],\n",
       "\n",
       "        [[5.32048241e+11, 0.00000000e+00],\n",
       "         [0.00000000e+00, 2.71828183e+00]]]])>"
      ]
     },
     "execution_count": 7,
     "metadata": {},
     "output_type": "execute_result"
    }
   ],
   "source": [
    "matrix_exponential(A)"
   ]
  },
  {
   "cell_type": "code",
   "execution_count": 4,
   "metadata": {},
   "outputs": [
    {
     "ename": "NameError",
     "evalue": "name 'np' is not defined",
     "output_type": "error",
     "traceback": [
      "\u001b[0;31m---------------------------------------------------------------------------\u001b[0m",
      "\u001b[0;31mNameError\u001b[0m                                 Traceback (most recent call last)",
      "\u001b[0;32m<ipython-input-4-efdb07e9d93c>\u001b[0m in \u001b[0;36m<module>\u001b[0;34m\u001b[0m\n\u001b[0;32m----> 1\u001b[0;31m \u001b[0mnp\u001b[0m\u001b[0;34m.\u001b[0m\u001b[0mexp\u001b[0m\u001b[0;34m(\u001b[0m\u001b[0;36m30\u001b[0m\u001b[0;34m)\u001b[0m\u001b[0;34m\u001b[0m\u001b[0;34m\u001b[0m\u001b[0m\n\u001b[0m",
      "\u001b[0;31mNameError\u001b[0m: name 'np' is not defined"
     ]
    }
   ],
   "source": [
    "np.exp(30)"
   ]
  }
 ],
 "metadata": {
  "kernelspec": {
   "display_name": "Python 3",
   "language": "python",
   "name": "python3"
  },
  "language_info": {
   "codemirror_mode": {
    "name": "ipython",
    "version": 3
   },
   "file_extension": ".py",
   "mimetype": "text/x-python",
   "name": "python",
   "nbconvert_exporter": "python",
   "pygments_lexer": "ipython3",
   "version": "3.7.3"
  }
 },
 "nbformat": 4,
 "nbformat_minor": 2
}
